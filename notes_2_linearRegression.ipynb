{
 "cells": [
  {
   "attachments": {},
   "cell_type": "markdown",
   "metadata": {},
   "source": [
    "# Core learning algorithms\n",
    "This \"chapter\" talks about linear regression.\n",
    "\n"
   ]
  },
  {
   "cell_type": "code",
   "execution_count": 1,
   "metadata": {},
   "outputs": [],
   "source": [
    "# import stuffs\n",
    "import numpy as np\n",
    "import pandas as pd\n",
    "import matplotlib.pyplot as plt\n",
    "from IPython.display import clear_output\n",
    "from six.moves import urllib\n",
    "import tensorflow.compat.v2.feature_column as fc\n"
   ]
  },
  {
   "attachments": {},
   "cell_type": "markdown",
   "metadata": {},
   "source": [
    "## Get data\n",
    "The code below is what i found in github:  \n",
    "https://github.com/tensorflow/datasets/blob/master/tensorflow_datasets/structured/titanic.py"
   ]
  },
  {
   "cell_type": "code",
   "execution_count": 2,
   "metadata": {},
   "outputs": [
    {
     "name": "stderr",
     "output_type": "stream",
     "text": [
      "c:\\Users\\eziod\\AppData\\Local\\Programs\\Python\\Python310\\lib\\site-packages\\tqdm\\auto.py:21: TqdmWarning: IProgress not found. Please update jupyter and ipywidgets. See https://ipywidgets.readthedocs.io/en/stable/user_install.html\n",
      "  from .autonotebook import tqdm as notebook_tqdm\n"
     ]
    },
    {
     "data": {
      "text/plain": [
       "tensorflow_datasets.core.lazy_builder_import.LazyBuilderImport"
      ]
     },
     "execution_count": 2,
     "metadata": {},
     "output_type": "execute_result"
    }
   ],
   "source": [
    "import tensorflow as tf\n",
    "from tensorflow_datasets.core import lazy_builder_import\n",
    "\n",
    "Titanic = lazy_builder_import.LazyBuilderImport('titanic')\n",
    "type(Titanic) # tensorflow_datasets.core.lazy_builder_import.LazyBuilderImport"
   ]
  },
  {
   "attachments": {},
   "cell_type": "markdown",
   "metadata": {},
   "source": [
    "This is what the instructor used. The data is stored on the remote:  \n",
    "https://storage.googleapis.com/tf-datasets/titanic/train.csv  \n",
    "https://storage.googleapis.com/tf-datasets/titanic/eval.csv  \n",
    "To avoid calling api each time i run the script, i downloaded the csv."
   ]
  },
  {
   "cell_type": "code",
   "execution_count": 3,
   "metadata": {},
   "outputs": [
    {
     "name": "stdout",
     "output_type": "stream",
     "text": [
      "      sex   age  n_siblings_spouses  parch     fare  class     deck  \\\n",
      "0    male  22.0                   1      0   7.2500  Third  unknown   \n",
      "1  female  38.0                   1      0  71.2833  First        C   \n",
      "2  female  26.0                   0      0   7.9250  Third  unknown   \n",
      "3  female  35.0                   1      0  53.1000  First        C   \n",
      "4    male  28.0                   0      0   8.4583  Third  unknown   \n",
      "\n",
      "   embark_town alone  \n",
      "0  Southampton     n  \n",
      "1    Cherbourg     n  \n",
      "2  Southampton     y  \n",
      "3  Southampton     n  \n",
      "4   Queenstown     y  \n"
     ]
    }
   ],
   "source": [
    "# load dataset\n",
    "dftrain = pd.read_csv(\"./data/titanic/train.csv\") # training data\n",
    "dfeval = pd.read_csv(\"./data/titanic/eval.csv\") # testing data\n",
    "y_train = dftrain.pop(\"survived\") # \"survived\" is a column's name\n",
    "y_eval = dfeval.pop(\"survived\")\n",
    "# take a look\n",
    "print(dftrain.head())"
   ]
  },
  {
   "attachments": {},
   "cell_type": "markdown",
   "metadata": {},
   "source": [
    "A statistical analysis. Use pandas' .describe() method."
   ]
  },
  {
   "cell_type": "code",
   "execution_count": 4,
   "metadata": {},
   "outputs": [
    {
     "data": {
      "text/html": [
       "<div>\n",
       "<style scoped>\n",
       "    .dataframe tbody tr th:only-of-type {\n",
       "        vertical-align: middle;\n",
       "    }\n",
       "\n",
       "    .dataframe tbody tr th {\n",
       "        vertical-align: top;\n",
       "    }\n",
       "\n",
       "    .dataframe thead th {\n",
       "        text-align: right;\n",
       "    }\n",
       "</style>\n",
       "<table border=\"1\" class=\"dataframe\">\n",
       "  <thead>\n",
       "    <tr style=\"text-align: right;\">\n",
       "      <th></th>\n",
       "      <th>age</th>\n",
       "      <th>n_siblings_spouses</th>\n",
       "      <th>parch</th>\n",
       "      <th>fare</th>\n",
       "    </tr>\n",
       "  </thead>\n",
       "  <tbody>\n",
       "    <tr>\n",
       "      <th>count</th>\n",
       "      <td>627.000000</td>\n",
       "      <td>627.000000</td>\n",
       "      <td>627.000000</td>\n",
       "      <td>627.000000</td>\n",
       "    </tr>\n",
       "    <tr>\n",
       "      <th>mean</th>\n",
       "      <td>29.631308</td>\n",
       "      <td>0.545455</td>\n",
       "      <td>0.379585</td>\n",
       "      <td>34.385399</td>\n",
       "    </tr>\n",
       "    <tr>\n",
       "      <th>std</th>\n",
       "      <td>12.511818</td>\n",
       "      <td>1.151090</td>\n",
       "      <td>0.792999</td>\n",
       "      <td>54.597730</td>\n",
       "    </tr>\n",
       "    <tr>\n",
       "      <th>min</th>\n",
       "      <td>0.750000</td>\n",
       "      <td>0.000000</td>\n",
       "      <td>0.000000</td>\n",
       "      <td>0.000000</td>\n",
       "    </tr>\n",
       "    <tr>\n",
       "      <th>25%</th>\n",
       "      <td>23.000000</td>\n",
       "      <td>0.000000</td>\n",
       "      <td>0.000000</td>\n",
       "      <td>7.895800</td>\n",
       "    </tr>\n",
       "    <tr>\n",
       "      <th>50%</th>\n",
       "      <td>28.000000</td>\n",
       "      <td>0.000000</td>\n",
       "      <td>0.000000</td>\n",
       "      <td>15.045800</td>\n",
       "    </tr>\n",
       "    <tr>\n",
       "      <th>75%</th>\n",
       "      <td>35.000000</td>\n",
       "      <td>1.000000</td>\n",
       "      <td>0.000000</td>\n",
       "      <td>31.387500</td>\n",
       "    </tr>\n",
       "    <tr>\n",
       "      <th>max</th>\n",
       "      <td>80.000000</td>\n",
       "      <td>8.000000</td>\n",
       "      <td>5.000000</td>\n",
       "      <td>512.329200</td>\n",
       "    </tr>\n",
       "  </tbody>\n",
       "</table>\n",
       "</div>"
      ],
      "text/plain": [
       "              age  n_siblings_spouses       parch        fare\n",
       "count  627.000000          627.000000  627.000000  627.000000\n",
       "mean    29.631308            0.545455    0.379585   34.385399\n",
       "std     12.511818            1.151090    0.792999   54.597730\n",
       "min      0.750000            0.000000    0.000000    0.000000\n",
       "25%     23.000000            0.000000    0.000000    7.895800\n",
       "50%     28.000000            0.000000    0.000000   15.045800\n",
       "75%     35.000000            1.000000    0.000000   31.387500\n",
       "max     80.000000            8.000000    5.000000  512.329200"
      ]
     },
     "execution_count": 4,
     "metadata": {},
     "output_type": "execute_result"
    }
   ],
   "source": [
    "dftrain.describe()"
   ]
  },
  {
   "attachments": {},
   "cell_type": "markdown",
   "metadata": {},
   "source": [
    "## Feature columns\n",
    "There are two kinds of columns: numeric and categorical.  \n",
    "Categorical data is anything that is not numeric.  \n",
    "Before training the model, we need to replace categorical data by numeric data.  \n",
    "Tensorflow can do this automatically.  "
   ]
  },
  {
   "cell_type": "code",
   "execution_count": 5,
   "metadata": {},
   "outputs": [
    {
     "name": "stdout",
     "output_type": "stream",
     "text": [
      "Column names are ['sex', 'age', 'n_siblings_spouses', 'parch', 'fare', 'class', 'deck', 'embark_town', 'alone']\n",
      "Categorical columns are ['sex', 'n_siblings_spouses', 'parch', 'class', 'deck', 'embark_town', 'alone']\n",
      "Numeric columns are ['age', 'fare']\n",
      "  \n",
      "WARNING:tensorflow:From C:\\Users\\eziod\\AppData\\Local\\Temp\\ipykernel_12080\\3914890335.py:21: categorical_column_with_vocabulary_list (from tensorflow.python.feature_column.feature_column_v2) is deprecated and will be removed in a future version.\n",
      "Instructions for updating:\n",
      "Use Keras preprocessing layers instead, either directly or via the `tf.keras.utils.FeatureSpace` utility. Each of `tf.feature_column.*` has a functional equivalent in `tf.keras.layers` for feature preprocessing when training a Keras model.\n",
      "WARNING:tensorflow:From C:\\Users\\eziod\\AppData\\Local\\Temp\\ipykernel_12080\\3914890335.py:24: numeric_column (from tensorflow.python.feature_column.feature_column_v2) is deprecated and will be removed in a future version.\n",
      "Instructions for updating:\n",
      "Use Keras preprocessing layers instead, either directly or via the `tf.keras.utils.FeatureSpace` utility. Each of `tf.feature_column.*` has a functional equivalent in `tf.keras.layers` for feature preprocessing when training a Keras model.\n",
      " \n",
      "[VocabularyListCategoricalColumn(key='sex', vocabulary_list=('male', 'female'), dtype=tf.string, default_value=-1, num_oov_buckets=0), VocabularyListCategoricalColumn(key='n_siblings_spouses', vocabulary_list=(1, 0, 3, 4, 2, 5, 8), dtype=tf.int64, default_value=-1, num_oov_buckets=0), VocabularyListCategoricalColumn(key='parch', vocabulary_list=(0, 1, 2, 5, 3, 4), dtype=tf.int64, default_value=-1, num_oov_buckets=0), VocabularyListCategoricalColumn(key='class', vocabulary_list=('Third', 'First', 'Second'), dtype=tf.string, default_value=-1, num_oov_buckets=0), VocabularyListCategoricalColumn(key='deck', vocabulary_list=('unknown', 'C', 'G', 'A', 'B', 'D', 'F', 'E'), dtype=tf.string, default_value=-1, num_oov_buckets=0), VocabularyListCategoricalColumn(key='embark_town', vocabulary_list=('Southampton', 'Cherbourg', 'Queenstown', 'unknown'), dtype=tf.string, default_value=-1, num_oov_buckets=0), VocabularyListCategoricalColumn(key='alone', vocabulary_list=('n', 'y'), dtype=tf.string, default_value=-1, num_oov_buckets=0), NumericColumn(key='age', shape=(1,), default_value=None, dtype=tf.float32, normalizer_fn=None), NumericColumn(key='fare', shape=(1,), default_value=None, dtype=tf.float32, normalizer_fn=None)]\n"
     ]
    }
   ],
   "source": [
    "CATEGORICAL_COLUMNS = list(dftrain.columns)\n",
    "print(\"Column names are %s\" % CATEGORICAL_COLUMNS)\n",
    "# If i use [] instead of list() to create list, it gives:\n",
    "# CATEGORICAL_COLUMNS = [dftrain.columns]\n",
    "# [Index(['sex', 'age', 'n_siblings_spouses', 'parch', 'fare', 'class', 'deck',\n",
    "#         'embark_town', 'alone'],\n",
    "#        dtype='object')]\n",
    "\n",
    "NUMERIC_COLUMNS = []\n",
    "NUMERIC_COLUMNS.append(CATEGORICAL_COLUMNS.pop(CATEGORICAL_COLUMNS.index('age'))) # delete \"age\" from CATEGORICAL_COLUMNS and add to NUMERIC_COLUMNS\n",
    "NUMERIC_COLUMNS.append(CATEGORICAL_COLUMNS.pop(CATEGORICAL_COLUMNS.index('fare')))\n",
    "print(\"Categorical columns are %s\" % CATEGORICAL_COLUMNS)\n",
    "print(\"Numeric columns are %s\" % NUMERIC_COLUMNS)\n",
    "print(\"  \")\n",
    "\n",
    "feature_columns = []\n",
    "for feature_name in CATEGORICAL_COLUMNS: # here feature_name means column name\n",
    "    vocabulary = dftrain[feature_name].unique()\n",
    "    #             ^^^^^^^^^^^^^^^^^^^^           get all rows of the column\n",
    "    #                                  ^^^^^^^   find unique values\n",
    "    feature_columns.append(tf.feature_column.categorical_column_with_vocabulary_list(feature_name, vocabulary))\n",
    "    #                      ^^^^^^^^^^^^^^^^^^^^^^^^^^^^^^^^^^^^^^^^^^^^^^^^^^^^^^^^^^\n",
    "    # here, tf automatically replace catigorical data by numeric data\n",
    "\n",
    "for feature_name in NUMERIC_COLUMNS:\n",
    "    feature_columns.append(tf.feature_column.numeric_column(feature_name, dtype=tf.float32))\n",
    "\n",
    "print(' ')\n",
    "print(feature_columns)\n",
    "\n",
    "# WARNING:tensorflow:From C:\\Users\\eziod\\AppData\\Local\\Temp\\ipykernel_3880\\535747530.py:21: categorical_column_with_vocabulary_list (from tensorflow.python.feature_column.feature_column_v2) is deprecated and will be removed in a future version.\n",
    "# Instructions for updating:\n",
    "# Use Keras preprocessing layers instead, either directly or via the `tf.keras.utils.FeatureSpace` utility. Each of `tf.feature_column.*` has a functional equivalent in `tf.keras.layers` for feature preprocessing when training a Keras model.\n",
    "# WARNING:tensorflow:From C:\\Users\\eziod\\AppData\\Local\\Temp\\ipykernel_3880\\535747530.py:24: numeric_column (from tensorflow.python.feature_column.feature_column_v2) is deprecated and will be removed in a future version.\n",
    "# Instructions for updating:\n",
    "# Use Keras preprocessing layers instead, either directly or via the `tf.keras.utils.FeatureSpace` utility. Each of `tf.feature_column.*` has a functional equivalent in `tf.keras.layers` for feature preprocessing when training a Keras model.\n"
   ]
  },
  {
   "attachments": {},
   "cell_type": "markdown",
   "metadata": {},
   "source": [
    "## Batch and epochs\n",
    "- Batch: number of training examples utilized in one iteration. = how many data we feed to the model once.\n",
    "- epochs: how many times the model will see the same data. Ex. if we have 10 epochs, then our model will see the same dataset 10 times.\n",
    "  \n",
    "## Input function\n",
    "We need to build an input function to feed the model."
   ]
  },
  {
   "cell_type": "code",
   "execution_count": 14,
   "metadata": {},
   "outputs": [
    {
     "name": "stdout",
     "output_type": "stream",
     "text": [
      "Type of ds (input_function) is <class 'function'>\n"
     ]
    }
   ],
   "source": [
    "def make_input_fn(data_df, label_df, num_epochs=10, shuffle=True, batch_size=32):\n",
    "    def input_function():\n",
    "        ds = tf.data.Dataset.from_tensor_slices((dict(data_df), label_df))\n",
    "        if shuffle:\n",
    "            ds = ds.shuffle(1000) # randomize order of data\n",
    "        ds = ds.batch(batch_size).repeat(num_epochs) # split dataset into batches of 32 and repeat process for number of epochs\n",
    "        return ds # return a batch of the dataset\n",
    "    return input_function\n",
    "\n",
    "train_input_fn = make_input_fn(dftrain, y_train)\n",
    "print(\"Type of input_function is %s\" % type(train_input_fn))\n",
    "eval_input_fn = make_input_fn(dfeval, y_eval, num_epochs=1, shuffle=False)"
   ]
  },
  {
   "attachments": {},
   "cell_type": "markdown",
   "metadata": {},
   "source": [
    "## train the model"
   ]
  },
  {
   "cell_type": "code",
   "execution_count": 15,
   "metadata": {},
   "outputs": [
    {
     "name": "stdout",
     "output_type": "stream",
     "text": [
      "Type of linear_est is <class 'tensorflow_estimator.python.estimator.canned.linear.LinearClassifierV2'> \n",
      "Type of result is <class 'dict'> \n",
      "The accuracy is 0.75757575 \n"
     ]
    }
   ],
   "source": [
    "linear_est = tf.estimator.LinearClassifier(feature_columns=feature_columns) # i suppose \"est\" stands for estimation\n",
    "\n",
    "linear_est.train(train_input_fn) # train\n",
    "result = linear_est.evaluate(eval_input_fn)\n",
    "\n",
    "clear_output()\n",
    "print(\"Type of linear_est is %s \" % type(linear_est))\n",
    "print(\"Type of result is %s \" % type(result))\n",
    "print(\"The accuracy is %s \" % str(result['accuracy'])) # the result variable is simply a dict of stats about our model\n",
    "\n",
    "# there is warning message telling me to use tf.keras instead.\n",
    "\n",
    "# It takes 4 or 5 seconds to run this chunk of code.\n",
    "# The accuracy varies each time."
   ]
  },
  {
   "attachments": {},
   "cell_type": "markdown",
   "metadata": {},
   "source": [
    "a bit information of the above code.  \n",
    "`tf.estimator`is to train and evaluate tf models. It is deprecated.  \n",
    "\n",
    "Explore the varialbe \"result\"\n",
    "\n"
   ]
  },
  {
   "cell_type": "code",
   "execution_count": 18,
   "metadata": {},
   "outputs": [
    {
     "name": "stdout",
     "output_type": "stream",
     "text": [
      "accuracy 0.75757575\n",
      "accuracy_baseline 0.625\n",
      "auc 0.8345577\n",
      "auc_precision_recall 0.7932865\n",
      "average_loss 0.48431924\n",
      "label/mean 0.375\n",
      "loss 0.47795072\n",
      "precision 0.6576577\n",
      "prediction/mean 0.42756692\n",
      "recall 0.7373737\n",
      "global_step 200\n"
     ]
    }
   ],
   "source": [
    "result # is a dict"
   ]
  },
  {
   "attachments": {},
   "cell_type": "markdown",
   "metadata": {},
   "source": [
    "## Predict\n",
    "Still to need to use input function to feed the model."
   ]
  },
  {
   "cell_type": "code",
   "execution_count": 23,
   "metadata": {},
   "outputs": [
    {
     "name": "stdout",
     "output_type": "stream",
     "text": [
      "dfeval (information about this passenger):\n",
      "sex                        female\n",
      "age                          55.0\n",
      "n_siblings_spouses              0\n",
      "parch                           0\n",
      "fare                         16.0\n",
      "class                      Second\n",
      "deck                      unknown\n",
      "embark_town           Southampton\n",
      "alone                           y\n",
      "Name: 3, dtype: object\n",
      "\n",
      "y_eval (the correct answer):\n",
      "1\n",
      "\n",
      "the result (the probability that this passenger survives):\n",
      "0.70570225\n"
     ]
    }
   ],
   "source": [
    "result = list(linear_est.predict(eval_input_fn))\n",
    "clear_output()\n",
    "i = 3\n",
    "print('dfeval (information about this passenger):')\n",
    "print(dfeval.loc[i])\n",
    "print('\\ny_eval (the correct answer):')\n",
    "print(y_eval.loc[i])\n",
    "print('\\nthe result (the probability that this passenger survives):')\n",
    "print(result[i]['probabilities'][1])"
   ]
  },
  {
   "cell_type": "code",
   "execution_count": 35,
   "metadata": {},
   "outputs": [
    {
     "name": "stdout",
     "output_type": "stream",
     "text": [
      "<class 'dict'>\n",
      "\n",
      "k v pair:\n",
      "logits \t\t\t [0.8746014] \t\t\t <class 'numpy.ndarray'>\n",
      "logistic \t\t\t [0.70570225] \t\t\t <class 'numpy.ndarray'>\n",
      "probabilities \t\t\t [0.29429775 0.70570225] \t\t\t <class 'numpy.ndarray'>\n",
      "class_ids \t\t\t [1] \t\t\t <class 'numpy.ndarray'>\n",
      "classes \t\t\t [b'1'] \t\t\t <class 'numpy.ndarray'>\n",
      "all_class_ids \t\t\t [0 1] \t\t\t <class 'numpy.ndarray'>\n",
      "all_classes \t\t\t [b'0' b'1'] \t\t\t <class 'numpy.ndarray'>\n"
     ]
    }
   ],
   "source": [
    "# i need to explore a bit the new \"result\" variable\n",
    "i = 3\n",
    "print(type(result[i])) # dict\n",
    "print('\\nk v pair:')\n",
    "for k,v in result[i].items():\n",
    "    print(k, '\\t\\t\\t', v, '\\t\\t\\t', type(v))"
   ]
  }
 ],
 "metadata": {
  "kernelspec": {
   "display_name": "Python 3",
   "language": "python",
   "name": "python3"
  },
  "language_info": {
   "codemirror_mode": {
    "name": "ipython",
    "version": 3
   },
   "file_extension": ".py",
   "mimetype": "text/x-python",
   "name": "python",
   "nbconvert_exporter": "python",
   "pygments_lexer": "ipython3",
   "version": "3.10.4"
  },
  "orig_nbformat": 4
 },
 "nbformat": 4,
 "nbformat_minor": 2
}
