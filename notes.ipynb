{
 "cells": [
  {
   "cell_type": "code",
   "execution_count": 1,
   "metadata": {},
   "outputs": [],
   "source": [
    "import tensorflow as tf"
   ]
  },
  {
   "attachments": {},
   "cell_type": "markdown",
   "metadata": {},
   "source": [
    "## Tensors and tensorflow\n",
    "\"A tensor is a generalization of vectors and matrices to potentially higher dimensions. Internally, tensorflow represents tensors as n-dimensional arrays of base datatypes\""
   ]
  },
  {
   "attachments": {},
   "cell_type": "markdown",
   "metadata": {},
   "source": [
    "## creating tensors\n",
    "Each tensor has a datatype and a shape:\n",
    "- datatype: int32, float32, string etc. Means which kind of data is stored in the tensor. Mostly they are numbers.\n",
    "- shape: like shape of a matrix. The dimension of data.  \n",
    "\n",
    "This is how we create tensors:"
   ]
  },
  {
   "cell_type": "code",
   "execution_count": 2,
   "metadata": {},
   "outputs": [],
   "source": [
    "string = tf.Variable(\"this is a string\", tf.string)\n",
    "number = tf.Variable(324, tf.int16) # we store 324 into the tensor and we specify that its datatype is int16"
   ]
  },
  {
   "attachments": {},
   "cell_type": "markdown",
   "metadata": {},
   "source": [
    "In the above examples, their shapes are all 1, they are scalar values.  \n",
    "Doc of tf Variables: https://www.tensorflow.org/guide/variable  \n",
    "A tf.Variable represents a tensor whose value can be changed by running ops on it.  \n",
    "## Rank (degree) of tensor\n",
    "The rank of tensor is **the number of indices required to uniquely select each element of the tensor**."
   ]
  },
  {
   "cell_type": "code",
   "execution_count": 3,
   "metadata": {},
   "outputs": [],
   "source": [
    "# create tensors of different ranks\n",
    "rank1_tensor = tf.Variable([\"Test\"], tf.string) # as we put an array in the tensor, it is at least rank 1\n",
    "rank1_tensor = tf.Variable([\"Test\", \"dog\", \"beibei\"], tf.string) # this is still rank 1 tensor\n",
    "rank2_tensor = tf.Variable([[\"test\",\"1\"], [\"test\",\"2\"]], tf.string) # this is rank 2. \"It is the deepest level of nested list\""
   ]
  },
  {
   "attachments": {},
   "cell_type": "markdown",
   "metadata": {},
   "source": [
    "Use `tf.rank` to determine the rank of a tensor: "
   ]
  },
  {
   "cell_type": "code",
   "execution_count": 4,
   "metadata": {},
   "outputs": [
    {
     "name": "stdout",
     "output_type": "stream",
     "text": [
      "rank of rank1_tensor is tf.Tensor(1, shape=(), dtype=int32) \n",
      "rank of rank2_tensor is tf.Tensor(2, shape=(), dtype=int32) \n"
     ]
    },
    {
     "data": {
      "text/plain": [
       "<tf.Tensor: shape=(), dtype=int32, numpy=1>"
      ]
     },
     "execution_count": 4,
     "metadata": {},
     "output_type": "execute_result"
    }
   ],
   "source": [
    "print(\"rank of rank1_tensor is %s \" % tf.rank(rank1_tensor))\n",
    "print(\"rank of rank2_tensor is %s \" % tf.rank(rank2_tensor))\n",
    "tf.rank(rank1_tensor)"
   ]
  },
  {
   "attachments": {},
   "cell_type": "markdown",
   "metadata": {},
   "source": [
    "What i found weird is, in the code section, running  \n",
    "`print(tf.rank(tensor))`  \n",
    "gives tf.Tensor(1, shape=(), dtype=int32).  \n",
    "While running just  \n",
    "`tf.rank(tensor)`  \n",
    "gives <tf.Tensor: shape=(), dtype=int32, numpy=1>, where shape=() means shape, numpy means the rank."
   ]
  },
  {
   "attachments": {},
   "cell_type": "markdown",
   "metadata": {},
   "source": [
    "## Shape of tensor\n",
    "shape is an attribute, so to view the shape, just a simple tensor.shape"
   ]
  },
  {
   "cell_type": "code",
   "execution_count": 6,
   "metadata": {},
   "outputs": [
    {
     "data": {
      "text/plain": [
       "TensorShape([2, 3])"
      ]
     },
     "execution_count": 6,
     "metadata": {},
     "output_type": "execute_result"
    }
   ],
   "source": [
    "rank2_tensor = tf.Variable([[\"test\",\"1\",\"row1 col3\"], [\"test\",\"2\",\"row2 col3\"]], tf.string) \n",
    "rank2_tensor.shape"
   ]
  },
  {
   "attachments": {},
   "cell_type": "markdown",
   "metadata": {},
   "source": [
    "## Changing shape\n",
    "Number of elements inside a tensor = product of its shape  \n",
    "For example, if the shape is [2,3,1], then there are 2*3*1 = 6 elements"
   ]
  },
  {
   "cell_type": "code",
   "execution_count": 16,
   "metadata": {},
   "outputs": [
    {
     "name": "stdout",
     "output_type": "stream",
     "text": [
      "The shape of tensor1 is (1, 2, 3)\n",
      "The shape of tensor2 is (2, 3, 1)\n",
      "The shape of tensorX is (3, 2)\n"
     ]
    }
   ],
   "source": [
    "tensor1 = tf.ones([1,2,3]) # create a tensor full of ones\n",
    "print(\"The shape of tensor1 is %s\" % str(tensor1.shape))\n",
    "\n",
    "# now lets reshape de tensor\n",
    "tensor2 = tf.reshape(tensor1, [2,3,1])\n",
    "print(\"The shape of tensor2 is %s\" % str(tensor2.shape))\n",
    "\n",
    "# the following code will give error\n",
    "# tensor3 = tf.reshape(tensor1, [3,3,3])\n",
    "# Input to reshape is a tensor with 6 values, but the requested shape has 27\n",
    "\n",
    "# we can let tf decide the shape\n",
    "tensorX = tf.reshape(tensor1, [3,-1]) # the -1 tells tf to calculate the dimension\n",
    "# As tensor1 has 6 elements, and as we have specified \"3\", 6 / 3 = 2\n",
    "print(\"The shape of tensorX is %s\" % str(tensorX.shape))\n"
   ]
  },
  {
   "attachments": {},
   "cell_type": "markdown",
   "metadata": {},
   "source": [
    "Let's inspect the three tensors:"
   ]
  },
  {
   "cell_type": "code",
   "execution_count": 18,
   "metadata": {},
   "outputs": [
    {
     "name": "stdout",
     "output_type": "stream",
     "text": [
      "tf.Tensor(\n",
      "[[[1. 1. 1.]\n",
      "  [1. 1. 1.]]], shape=(1, 2, 3), dtype=float32)\n",
      "--- --- ---\n",
      "tf.Tensor(\n",
      "[[[1.]\n",
      "  [1.]\n",
      "  [1.]]\n",
      "\n",
      " [[1.]\n",
      "  [1.]\n",
      "  [1.]]], shape=(2, 3, 1), dtype=float32)\n",
      "--- --- ---\n",
      "tf.Tensor(\n",
      "[[1. 1.]\n",
      " [1. 1.]\n",
      " [1. 1.]], shape=(3, 2), dtype=float32)\n"
     ]
    }
   ],
   "source": [
    "print(tensor1)\n",
    "print(\"--- --- ---\")\n",
    "print(tensor2)\n",
    "print(\"--- --- ---\")\n",
    "print(tensorX)"
   ]
  },
  {
   "attachments": {},
   "cell_type": "markdown",
   "metadata": {},
   "source": [
    "## Types of tensors\n",
    "There are several types of tensors (i'm not sure if it's exhaustive)\n",
    "- Variable\n",
    "- Constant\n",
    "- Placeholder\n",
    "- SparseTensor\n",
    "Variable is muttable, the three others are immuttable.  \n",
    "\n",
    "So use Variable tensor if potentially we want to change the value of the tensor.\n",
    "\n",
    "## Graphs\n",
    "In the previous sections, i ran tf **eagerly**. Another way is the **graph execution**. \n",
    "\n",
    "**Graphs** are data structures that contain a set of `tf.Operation` objects, which represent units of computation; and tf.Tensor objects, which represent the units of data that flow between operations. They are defined in a tf.Graph context. Since these graphs are data structures, they can be saved, run, and restored all without the original Python code.  \n",
    "\n",
    "## Evaluating tensors\n",
    "Evaluate a tensors, means get the value of the tensor.  \n",
    "We need to run a **sessions** to evaluate a tensor's value."
   ]
  },
  {
   "cell_type": "code",
   "execution_count": 19,
   "metadata": {},
   "outputs": [
    {
     "ename": "AttributeError",
     "evalue": "module 'tensorflow' has no attribute 'Session'",
     "output_type": "error",
     "traceback": [
      "\u001b[1;31m---------------------------------------------------------------------------\u001b[0m",
      "\u001b[1;31mAttributeError\u001b[0m                            Traceback (most recent call last)",
      "\u001b[1;32m~\\AppData\\Local\\Temp\\ipykernel_44592\\1205238372.py\u001b[0m in \u001b[0;36m<cell line: 1>\u001b[1;34m()\u001b[0m\n\u001b[1;32m----> 1\u001b[1;33m \u001b[1;32mwith\u001b[0m \u001b[0mtf\u001b[0m\u001b[1;33m.\u001b[0m\u001b[0mSession\u001b[0m\u001b[1;33m(\u001b[0m\u001b[1;33m)\u001b[0m \u001b[1;32mas\u001b[0m \u001b[0msess\u001b[0m\u001b[1;33m:\u001b[0m \u001b[1;31m# creates a session using default graph\u001b[0m\u001b[1;33m\u001b[0m\u001b[1;33m\u001b[0m\u001b[0m\n\u001b[0m\u001b[0;32m      2\u001b[0m     \u001b[0mtensorX\u001b[0m\u001b[1;33m.\u001b[0m\u001b[0meval\u001b[0m\u001b[1;33m(\u001b[0m\u001b[1;33m)\u001b[0m\u001b[1;33m\u001b[0m\u001b[1;33m\u001b[0m\u001b[0m\n",
      "\u001b[1;31mAttributeError\u001b[0m: module 'tensorflow' has no attribute 'Session'"
     ]
    }
   ],
   "source": [
    "with tf.Session() as sess: # creates a session using default graph\n",
    "    tensorX.eval()"
   ]
  },
  {
   "attachments": {},
   "cell_type": "markdown",
   "metadata": {},
   "source": [
    "It seems that it has been changed since TensorFlow 2.0  \n",
    "https://stackoverflow.com/questions/55142951/tensorflow-2-0-attributeerror-module-tensorflow-has-no-attribute-session"
   ]
  },
  {
   "cell_type": "code",
   "execution_count": 20,
   "metadata": {},
   "outputs": [
    {
     "ename": "NotImplementedError",
     "evalue": "eval is not supported when eager execution is enabled, is .numpy() what you're looking for?",
     "output_type": "error",
     "traceback": [
      "\u001b[1;31m---------------------------------------------------------------------------\u001b[0m",
      "\u001b[1;31mNotImplementedError\u001b[0m                       Traceback (most recent call last)",
      "\u001b[1;32m~\\AppData\\Local\\Temp\\ipykernel_44592\\617832088.py\u001b[0m in \u001b[0;36m<cell line: 1>\u001b[1;34m()\u001b[0m\n\u001b[0;32m      1\u001b[0m \u001b[1;32mwith\u001b[0m \u001b[0mtf\u001b[0m\u001b[1;33m.\u001b[0m\u001b[0mcompat\u001b[0m\u001b[1;33m.\u001b[0m\u001b[0mv1\u001b[0m\u001b[1;33m.\u001b[0m\u001b[0mSession\u001b[0m\u001b[1;33m(\u001b[0m\u001b[1;33m)\u001b[0m\u001b[1;33m:\u001b[0m\u001b[1;33m\u001b[0m\u001b[1;33m\u001b[0m\u001b[0m\n\u001b[1;32m----> 2\u001b[1;33m     \u001b[0mtensorX\u001b[0m\u001b[1;33m.\u001b[0m\u001b[0meval\u001b[0m\u001b[1;33m(\u001b[0m\u001b[1;33m)\u001b[0m\u001b[1;33m\u001b[0m\u001b[1;33m\u001b[0m\u001b[0m\n\u001b[0m",
      "\u001b[1;32mc:\\Users\\eziod\\AppData\\Local\\Programs\\Python\\Python310\\lib\\site-packages\\tensorflow\\python\\framework\\ops.py\u001b[0m in \u001b[0;36meval\u001b[1;34m(self, feed_dict, session)\u001b[0m\n\u001b[0;32m   1344\u001b[0m \u001b[1;33m\u001b[0m\u001b[0m\n\u001b[0;32m   1345\u001b[0m   \u001b[1;32mdef\u001b[0m \u001b[0meval\u001b[0m\u001b[1;33m(\u001b[0m\u001b[0mself\u001b[0m\u001b[1;33m,\u001b[0m \u001b[0mfeed_dict\u001b[0m\u001b[1;33m=\u001b[0m\u001b[1;32mNone\u001b[0m\u001b[1;33m,\u001b[0m \u001b[0msession\u001b[0m\u001b[1;33m=\u001b[0m\u001b[1;32mNone\u001b[0m\u001b[1;33m)\u001b[0m\u001b[1;33m:\u001b[0m\u001b[1;33m\u001b[0m\u001b[1;33m\u001b[0m\u001b[0m\n\u001b[1;32m-> 1346\u001b[1;33m     raise NotImplementedError(\n\u001b[0m\u001b[0;32m   1347\u001b[0m         \u001b[1;34m\"eval is not supported when eager execution is enabled, \"\u001b[0m\u001b[1;33m\u001b[0m\u001b[1;33m\u001b[0m\u001b[0m\n\u001b[0;32m   1348\u001b[0m         \"is .numpy() what you're looking for?\")\n",
      "\u001b[1;31mNotImplementedError\u001b[0m: eval is not supported when eager execution is enabled, is .numpy() what you're looking for?"
     ]
    }
   ],
   "source": [
    "with tf.compat.v1.Session():\n",
    "    tensorX.eval()"
   ]
  },
  {
   "attachments": {},
   "cell_type": "markdown",
   "metadata": {},
   "source": [
    "ok great another traceback, eval is not supported when eager execution is enabled.  \n",
    "I think i will understand this stuff later."
   ]
  }
 ],
 "metadata": {
  "kernelspec": {
   "display_name": "Python 3",
   "language": "python",
   "name": "python3"
  },
  "language_info": {
   "codemirror_mode": {
    "name": "ipython",
    "version": 3
   },
   "file_extension": ".py",
   "mimetype": "text/x-python",
   "name": "python",
   "nbconvert_exporter": "python",
   "pygments_lexer": "ipython3",
   "version": "3.10.4"
  },
  "orig_nbformat": 4
 },
 "nbformat": 4,
 "nbformat_minor": 2
}
