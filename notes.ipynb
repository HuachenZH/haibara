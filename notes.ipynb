{
 "cells": [
  {
   "cell_type": "code",
   "execution_count": 1,
   "metadata": {},
   "outputs": [],
   "source": [
    "import tensorflow as tf"
   ]
  },
  {
   "attachments": {},
   "cell_type": "markdown",
   "metadata": {},
   "source": [
    "## Tensors and tensorflow\n",
    "\"A tensor is a generalization of vectors and matrices to potentially higher dimensions. Internally, tensorflow represents tensors as n-dimensional arrays of base datatypes\""
   ]
  },
  {
   "attachments": {},
   "cell_type": "markdown",
   "metadata": {},
   "source": [
    "## creating tensors\n",
    "Each tensor has a datatype and a shape:\n",
    "- datatype: int32, float32, string etc. Means which kind of data is stored in the tensor. Mostly they are numbers.\n",
    "- shape: like shape of a matrix. The dimension of data.  \n",
    "\n",
    "This is how we create tensors:"
   ]
  },
  {
   "cell_type": "code",
   "execution_count": 3,
   "metadata": {},
   "outputs": [],
   "source": [
    "string = tf.Variable(\"this is a string\", tf.string)\n",
    "number = tf.Variable(324, tf.int16) # we store 324 into the tensor and we specify that its datatype is int16"
   ]
  },
  {
   "attachments": {},
   "cell_type": "markdown",
   "metadata": {},
   "source": [
    "In the above examples, their shapes are all 1, they are scalar values.  \n",
    "Doc of tf Variables: https://www.tensorflow.org/guide/variable  \n",
    "A tf.Variable represents a tensor whose value can be changed by running ops on it.  \n",
    "## Rank (degree) of tensor\n",
    "The rank of tensor is **the number of indices required to uniquely select each element of the tensor**."
   ]
  },
  {
   "cell_type": "code",
   "execution_count": 11,
   "metadata": {},
   "outputs": [],
   "source": [
    "# create tensors of different ranks\n",
    "rank1_tensor = tf.Variable([\"Test\"], tf.string) # as we put an array in the tensor, it is at least rank 1\n",
    "rank1_tensor = tf.Variable([\"Test\", \"dog\", \"beibei\"], tf.string) # this is still rank 1 tensor\n",
    "rank2_tensor = tf.Variable([[\"test\",\"1\"], [\"test\",\"2\"]], tf.string) # this is rank 2. \"It is the deepest level of nested list\""
   ]
  },
  {
   "attachments": {},
   "cell_type": "markdown",
   "metadata": {},
   "source": [
    "Use `tf.rank` to determine the rank of a tensor: "
   ]
  },
  {
   "cell_type": "code",
   "execution_count": 12,
   "metadata": {},
   "outputs": [
    {
     "name": "stdout",
     "output_type": "stream",
     "text": [
      "rank of rank1_tensor is tf.Tensor(1, shape=(), dtype=int32) \n",
      "rank of rank2_tensor is tf.Tensor(2, shape=(), dtype=int32) \n"
     ]
    },
    {
     "data": {
      "text/plain": [
       "<tf.Tensor: shape=(), dtype=int32, numpy=1>"
      ]
     },
     "execution_count": 12,
     "metadata": {},
     "output_type": "execute_result"
    }
   ],
   "source": [
    "print(\"rank of rank1_tensor is %s \" % tf.rank(rank1_tensor))\n",
    "print(\"rank of rank2_tensor is %s \" % tf.rank(rank2_tensor))\n",
    "tf.rank(rank1_tensor)"
   ]
  },
  {
   "attachments": {},
   "cell_type": "markdown",
   "metadata": {},
   "source": [
    "What i found weird is, in the code section, running  \n",
    "`print(tf.rank(tensor))`  \n",
    "gives tf.Tensor(1, shape=(), dtype=int32).  \n",
    "While running just  \n",
    "`tf.rank(tensor)`  \n",
    "gives <tf.Tensor: shape=(), dtype=int32, numpy=1>, where shape=() means shape, numpy means the rank."
   ]
  }
 ],
 "metadata": {
  "kernelspec": {
   "display_name": "Python 3",
   "language": "python",
   "name": "python3"
  },
  "language_info": {
   "codemirror_mode": {
    "name": "ipython",
    "version": 3
   },
   "file_extension": ".py",
   "mimetype": "text/x-python",
   "name": "python",
   "nbconvert_exporter": "python",
   "pygments_lexer": "ipython3",
   "version": "3.10.4"
  },
  "orig_nbformat": 4
 },
 "nbformat": 4,
 "nbformat_minor": 2
}
